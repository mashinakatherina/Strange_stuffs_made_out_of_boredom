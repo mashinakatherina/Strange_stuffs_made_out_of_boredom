{
  "nbformat": 4,
  "nbformat_minor": 0,
  "metadata": {
    "accelerator": "GPU",
    "colab": {
      "name": "Zachet_v1.1.ipynb",
      "provenance": [],
      "collapsed_sections": [],
      "toc_visible": true
    },
    "kernelspec": {
      "display_name": "Python 3",
      "language": "python",
      "name": "python3"
    },
    "language_info": {
      "codemirror_mode": {
        "name": "ipython",
        "version": 3
      },
      "file_extension": ".py",
      "mimetype": "text/x-python",
      "name": "python",
      "nbconvert_exporter": "python",
      "pygments_lexer": "ipython3",
      "version": "3.7.1"
    }
  },
  "cells": [
    {
      "cell_type": "code",
      "metadata": {
        "colab_type": "code",
        "id": "k0Se6QIN9qaf",
        "colab": {}
      },
      "source": [
        "# Задание № 1: pulsar_stars"
      ],
      "execution_count": null,
      "outputs": []
    },
    {
      "cell_type": "markdown",
      "metadata": {
        "id": "nPXn7VHhr0mP",
        "colab_type": "text"
      },
      "source": [
        "# Выборка данных и нормировка"
      ]
    },
    {
      "cell_type": "code",
      "metadata": {
        "id": "-_zDJz1Nr0mU",
        "colab_type": "code",
        "colab": {}
      },
      "source": [
        "import pandas as pd\n",
        "import numpy as np\n",
        "\n",
        "import io\n",
        "df2 = pd.read_csv('report.csv')"
      ],
      "execution_count": 24,
      "outputs": []
    },
    {
      "cell_type": "markdown",
      "metadata": {
        "id": "NJaiOzQcr0me",
        "colab_type": "text"
      },
      "source": [
        "Укажите число строк в полученной выборке: "
      ]
    },
    {
      "cell_type": "code",
      "metadata": {
        "colab_type": "code",
        "id": "EQ0I9F3EAC8V",
        "colab": {
          "base_uri": "https://localhost:8080/",
          "height": 34
        },
        "outputId": "3290d232-7647-4c15-8d02-e98fc61cfef2"
      },
      "source": [
        "new_ds = df2[((df2['TARGET'] == 0) & (df2['MIP'] >= 83) & (df2['MIP'] <= 84)) | ((df2['TARGET'] == 1) & (df2['MIP'] >= 83) & (df2['MIP'] <= 89))]\n",
        "len(new_ds.index)"
      ],
      "execution_count": 25,
      "outputs": [
        {
          "output_type": "execute_result",
          "data": {
            "text/plain": [
              "136"
            ]
          },
          "metadata": {
            "tags": []
          },
          "execution_count": 25
        }
      ]
    },
    {
      "cell_type": "markdown",
      "metadata": {
        "id": "bBjNVjTHr0mt",
        "colab_type": "text"
      },
      "source": [
        "Определите выборочное среднее для столбца MIP после нормировки:"
      ]
    },
    {
      "cell_type": "code",
      "metadata": {
        "colab_type": "code",
        "id": "8b0QPEXyFbUL",
        "colab": {
          "base_uri": "https://localhost:8080/",
          "height": 34
        },
        "outputId": "2960edf6-bca3-432a-e565-65c31999e2d7"
      },
      "source": [
        "from sklearn.preprocessing import MinMaxScaler\n",
        "scaler = MinMaxScaler()\n",
        "\n",
        "normal_ds = pd.DataFrame(scaler.fit_transform(new_ds))\n",
        "round(np.mean(normal_ds[0]),3)"
      ],
      "execution_count": 26,
      "outputs": [
        {
          "output_type": "execute_result",
          "data": {
            "text/plain": [
              "0.266"
            ]
          },
          "metadata": {
            "tags": []
          },
          "execution_count": 26
        }
      ]
    },
    {
      "cell_type": "code",
      "metadata": {
        "id": "8oNMZURQr0m4",
        "colab_type": "code",
        "colab": {
          "base_uri": "https://localhost:8080/",
          "height": 195
        },
        "outputId": "d8dae72c-42fe-4f2a-8da7-07ce24cad8c5"
      },
      "source": [
        "normal_ds.head()"
      ],
      "execution_count": 27,
      "outputs": [
        {
          "output_type": "execute_result",
          "data": {
            "text/html": [
              "<div>\n",
              "<style scoped>\n",
              "    .dataframe tbody tr th:only-of-type {\n",
              "        vertical-align: middle;\n",
              "    }\n",
              "\n",
              "    .dataframe tbody tr th {\n",
              "        vertical-align: top;\n",
              "    }\n",
              "\n",
              "    .dataframe thead th {\n",
              "        text-align: right;\n",
              "    }\n",
              "</style>\n",
              "<table border=\"1\" class=\"dataframe\">\n",
              "  <thead>\n",
              "    <tr style=\"text-align: right;\">\n",
              "      <th></th>\n",
              "      <th>0</th>\n",
              "      <th>1</th>\n",
              "      <th>2</th>\n",
              "      <th>3</th>\n",
              "      <th>4</th>\n",
              "      <th>5</th>\n",
              "      <th>6</th>\n",
              "      <th>7</th>\n",
              "      <th>8</th>\n",
              "    </tr>\n",
              "  </thead>\n",
              "  <tbody>\n",
              "    <tr>\n",
              "      <th>0</th>\n",
              "      <td>0.300680</td>\n",
              "      <td>0.267009</td>\n",
              "      <td>0.429193</td>\n",
              "      <td>0.306216</td>\n",
              "      <td>0.033361</td>\n",
              "      <td>0.247052</td>\n",
              "      <td>0.281124</td>\n",
              "      <td>0.061703</td>\n",
              "      <td>1.0</td>\n",
              "    </tr>\n",
              "    <tr>\n",
              "      <th>1</th>\n",
              "      <td>0.115646</td>\n",
              "      <td>0.148421</td>\n",
              "      <td>0.069739</td>\n",
              "      <td>0.213864</td>\n",
              "      <td>0.022596</td>\n",
              "      <td>0.152646</td>\n",
              "      <td>0.323719</td>\n",
              "      <td>0.089913</td>\n",
              "      <td>0.0</td>\n",
              "    </tr>\n",
              "    <tr>\n",
              "      <th>2</th>\n",
              "      <td>0.165986</td>\n",
              "      <td>0.030998</td>\n",
              "      <td>0.250464</td>\n",
              "      <td>0.397038</td>\n",
              "      <td>0.007346</td>\n",
              "      <td>0.033184</td>\n",
              "      <td>0.537325</td>\n",
              "      <td>0.326763</td>\n",
              "      <td>0.0</td>\n",
              "    </tr>\n",
              "    <tr>\n",
              "      <th>3</th>\n",
              "      <td>0.089796</td>\n",
              "      <td>0.349197</td>\n",
              "      <td>0.073905</td>\n",
              "      <td>0.098465</td>\n",
              "      <td>0.018706</td>\n",
              "      <td>0.095516</td>\n",
              "      <td>0.325534</td>\n",
              "      <td>0.103149</td>\n",
              "      <td>0.0</td>\n",
              "    </tr>\n",
              "    <tr>\n",
              "      <th>4</th>\n",
              "      <td>0.944218</td>\n",
              "      <td>0.195245</td>\n",
              "      <td>0.122403</td>\n",
              "      <td>0.163214</td>\n",
              "      <td>0.012278</td>\n",
              "      <td>0.097978</td>\n",
              "      <td>0.399278</td>\n",
              "      <td>0.143982</td>\n",
              "      <td>1.0</td>\n",
              "    </tr>\n",
              "  </tbody>\n",
              "</table>\n",
              "</div>"
            ],
            "text/plain": [
              "          0         1         2         3  ...         5         6         7    8\n",
              "0  0.300680  0.267009  0.429193  0.306216  ...  0.247052  0.281124  0.061703  1.0\n",
              "1  0.115646  0.148421  0.069739  0.213864  ...  0.152646  0.323719  0.089913  0.0\n",
              "2  0.165986  0.030998  0.250464  0.397038  ...  0.033184  0.537325  0.326763  0.0\n",
              "3  0.089796  0.349197  0.073905  0.098465  ...  0.095516  0.325534  0.103149  0.0\n",
              "4  0.944218  0.195245  0.122403  0.163214  ...  0.097978  0.399278  0.143982  1.0\n",
              "\n",
              "[5 rows x 9 columns]"
            ]
          },
          "metadata": {
            "tags": []
          },
          "execution_count": 27
        }
      ]
    },
    {
      "cell_type": "markdown",
      "metadata": {
        "id": "ae-ebJwDr0nD",
        "colab_type": "text"
      },
      "source": [
        "# Логическая регрессия"
      ]
    },
    {
      "cell_type": "code",
      "metadata": {
        "id": "89SyOsB2r0nF",
        "colab_type": "code",
        "colab": {}
      },
      "source": [
        "#отбор данных для предикторов, удаление дввух последних столбцов, индекс не включается в данные автоматически.\n",
        "X = pd.DataFrame(normal_ds.drop([8], axis=1))"
      ],
      "execution_count": 28,
      "outputs": []
    },
    {
      "cell_type": "code",
      "metadata": {
        "id": "XzFcu4sfr0nM",
        "colab_type": "code",
        "colab": {}
      },
      "source": [
        "#отбор столбца для отклика\n",
        "y = pd.DataFrame(normal_ds[8])"
      ],
      "execution_count": 29,
      "outputs": []
    },
    {
      "cell_type": "code",
      "metadata": {
        "id": "ge7sABiGr0nS",
        "colab_type": "code",
        "colab": {}
      },
      "source": [
        "#подключение модели логистической регрессии из библиотеки sklearn\n",
        "from sklearn.linear_model import LogisticRegression"
      ],
      "execution_count": 30,
      "outputs": []
    },
    {
      "cell_type": "code",
      "metadata": {
        "id": "7TJzAs-wr0nW",
        "colab_type": "code",
        "colab": {}
      },
      "source": [
        "#обучение модели\n",
        "reg = LogisticRegression(random_state=2019, solver='lbfgs').fit(X, y.values.ravel())"
      ],
      "execution_count": 31,
      "outputs": []
    },
    {
      "cell_type": "markdown",
      "metadata": {
        "id": "xfO2SX8Vr0na",
        "colab_type": "text"
      },
      "source": [
        "Введите вероятность отнесения звезды к классу \"не пульсар\":\n"
      ]
    },
    {
      "cell_type": "code",
      "metadata": {
        "id": "ZKEOkeSkr0na",
        "colab_type": "code",
        "colab": {
          "base_uri": "https://localhost:8080/",
          "height": 34
        },
        "outputId": "04c435ba-07b8-4229-d7f2-61394a5d99d3"
      },
      "source": [
        "#предсказание для сладости, введенной вручную, вероятности указаны для классов 0 (не пульсар) и 1 (пульсар) соответственно \n",
        "reg.predict_proba([[0.1, 0.1, 0.1, 0.1, 0.1, 0.1, 0.1, 0.1]])"
      ],
      "execution_count": 32,
      "outputs": [
        {
          "output_type": "execute_result",
          "data": {
            "text/plain": [
              "array([[0.72644503, 0.27355497]])"
            ]
          },
          "metadata": {
            "tags": []
          },
          "execution_count": 32
        }
      ]
    },
    {
      "cell_type": "markdown",
      "metadata": {
        "id": "nRAnDUvMr0ne",
        "colab_type": "text"
      },
      "source": [
        "# Расстояние от новой звезды до ближайшего соседа"
      ]
    },
    {
      "cell_type": "code",
      "metadata": {
        "id": "lOjZ3z4ir0nf",
        "colab_type": "code",
        "colab": {
          "base_uri": "https://localhost:8080/",
          "height": 87
        },
        "outputId": "11c8acb5-ca8b-45fb-c989-67ad05a9932d"
      },
      "source": [
        "from sklearn.neighbors import KNeighborsClassifier\n",
        "neigh = KNeighborsClassifier(n_neighbors=136, p=1)\n",
        "neigh.fit(X, y)"
      ],
      "execution_count": 33,
      "outputs": [
        {
          "output_type": "stream",
          "text": [
            "/usr/local/lib/python3.6/dist-packages/ipykernel_launcher.py:3: DataConversionWarning: A column-vector y was passed when a 1d array was expected. Please change the shape of y to (n_samples, ), for example using ravel().\n",
            "  This is separate from the ipykernel package so we can avoid doing imports until\n"
          ],
          "name": "stderr"
        },
        {
          "output_type": "execute_result",
          "data": {
            "text/plain": [
              "KNeighborsClassifier(n_neighbors=136, p=1)"
            ]
          },
          "metadata": {
            "tags": []
          },
          "execution_count": 33
        }
      ]
    },
    {
      "cell_type": "code",
      "metadata": {
        "id": "I9Pqv8GZr0nj",
        "colab_type": "code",
        "colab": {}
      },
      "source": [
        "NewObject = [0.1,0.1,0.1,0.1,0.1,0.1,0.1,0.1]"
      ],
      "execution_count": 34,
      "outputs": []
    },
    {
      "cell_type": "code",
      "metadata": {
        "id": "f8X__Gcmr0nm",
        "colab_type": "code",
        "colab": {
          "base_uri": "https://localhost:8080/",
          "height": 34
        },
        "outputId": "b5f6d424-4ef4-4695-fe2d-8c3b78efcd60"
      },
      "source": [
        "round(neigh.kneighbors([NewObject])[0][0][0],3)"
      ],
      "execution_count": 35,
      "outputs": [
        {
          "output_type": "execute_result",
          "data": {
            "text/plain": [
              "0.548"
            ]
          },
          "metadata": {
            "tags": []
          },
          "execution_count": 35
        }
      ]
    },
    {
      "cell_type": "markdown",
      "metadata": {
        "id": "FitErKfLr0np",
        "colab_type": "text"
      },
      "source": [
        "# Задание 2: рукописные буквы"
      ]
    },
    {
      "cell_type": "code",
      "metadata": {
        "id": "VHFBjBcvr0nq",
        "colab_type": "code",
        "colab": {
          "base_uri": "https://localhost:8080/",
          "height": 406
        },
        "outputId": "3b6b20ff-8116-4e04-bd00-eb63fbd64e1f"
      },
      "source": [
        "!pip install --upgrade pip\n",
        "!pip install --upgrade scikit-learn==0.23.0"
      ],
      "execution_count": 1,
      "outputs": [
        {
          "output_type": "stream",
          "text": [
            "Collecting pip\n",
            "\u001b[?25l  Downloading https://files.pythonhosted.org/packages/43/84/23ed6a1796480a6f1a2d38f2802901d078266bda38388954d01d3f2e821d/pip-20.1.1-py2.py3-none-any.whl (1.5MB)\n",
            "\u001b[K     |████████████████████████████████| 1.5MB 2.8MB/s \n",
            "\u001b[?25hInstalling collected packages: pip\n",
            "  Found existing installation: pip 19.3.1\n",
            "    Uninstalling pip-19.3.1:\n",
            "      Successfully uninstalled pip-19.3.1\n",
            "Successfully installed pip-20.1.1\n",
            "Collecting scikit-learn==0.23.0\n",
            "  Downloading scikit_learn-0.23.0-cp36-cp36m-manylinux1_x86_64.whl (7.3 MB)\n",
            "\u001b[K     |████████████████████████████████| 7.3 MB 2.6 MB/s \n",
            "\u001b[?25hRequirement already satisfied, skipping upgrade: joblib>=0.11 in /usr/local/lib/python3.6/dist-packages (from scikit-learn==0.23.0) (0.15.1)\n",
            "Requirement already satisfied, skipping upgrade: scipy>=0.19.1 in /usr/local/lib/python3.6/dist-packages (from scikit-learn==0.23.0) (1.4.1)\n",
            "Requirement already satisfied, skipping upgrade: numpy>=1.13.3 in /usr/local/lib/python3.6/dist-packages (from scikit-learn==0.23.0) (1.18.5)\n",
            "Collecting threadpoolctl>=2.0.0\n",
            "  Downloading threadpoolctl-2.1.0-py3-none-any.whl (12 kB)\n",
            "Installing collected packages: threadpoolctl, scikit-learn\n",
            "  Attempting uninstall: scikit-learn\n",
            "    Found existing installation: scikit-learn 0.22.2.post1\n",
            "    Uninstalling scikit-learn-0.22.2.post1:\n",
            "      Successfully uninstalled scikit-learn-0.22.2.post1\n",
            "Successfully installed scikit-learn-0.23.0 threadpoolctl-2.1.0\n"
          ],
          "name": "stdout"
        }
      ]
    },
    {
      "cell_type": "code",
      "metadata": {
        "id": "ZJWrXR6Kr0nt",
        "colab_type": "code",
        "colab": {
          "base_uri": "https://localhost:8080/",
          "height": 34
        },
        "outputId": "f0372ed9-9c27-416b-c54b-02d73c8b8f80"
      },
      "source": [
        "import numpy as np\n",
        "import matplotlib\n",
        "import matplotlib.pyplot as plt\n",
        "%matplotlib inline\n",
        "from keras.datasets import mnist\n",
        "from sklearn.model_selection import train_test_split"
      ],
      "execution_count": 2,
      "outputs": [
        {
          "output_type": "stream",
          "text": [
            "Using TensorFlow backend.\n"
          ],
          "name": "stderr"
        }
      ]
    },
    {
      "cell_type": "markdown",
      "metadata": {
        "id": "WPG2jyIQr0nw",
        "colab_type": "text"
      },
      "source": [
        "1. Для начала параметр n_components приравниваем к рандомному числу"
      ]
    },
    {
      "cell_type": "code",
      "metadata": {
        "id": "RKy84Wqsz3um",
        "colab_type": "code",
        "colab": {}
      },
      "source": [
        "pivot = 500"
      ],
      "execution_count": 19,
      "outputs": []
    },
    {
      "cell_type": "code",
      "metadata": {
        "id": "thYOdreBr0nw",
        "colab_type": "code",
        "colab": {}
      },
      "source": [
        "\n",
        "(X_train, y_train), (X_pred, y_pred) = mnist.load_data()\n",
        "\n",
        "X_train, X_test, y_train, y_test = train_test_split(X_train, y_train, test_size=0.3, random_state=126)\n",
        "\n",
        "dim = 784 # 28*28 \n",
        "X_train = X_train.reshape(len(X_train), dim)\n",
        "X_test = X_test.reshape(len(X_test), dim)\n",
        "\n",
        "from sklearn.decomposition import PCA\n",
        "pca = PCA(n_components = pivot, svd_solver='full')\n",
        "modelPCA = pca.fit(X_train) \n",
        "X_train = modelPCA.transform(X_train)"
      ],
      "execution_count": 40,
      "outputs": []
    },
    {
      "cell_type": "markdown",
      "metadata": {
        "id": "YERZxMknr0n0",
        "colab_type": "text"
      },
      "source": [
        "2. Находим долю объясненной дисперсии в зависимости от количества используемых ГК.\n",
        "Ищем в массиве нужное значение дисперсии. Например, по заданию надо, чтобы доля объясненной дисперсии превышала 0.83.\n",
        "В массиве под индексом 52 находится такое число - 0.831. \n",
        "Значит, возвращаемся в предыдущий пункт и меняет значение параметра n_components на 52.\n",
        "Индекс найденного числа в массиве есть ОТВЕТ НА ПЕРВЫЙ ПУНКТ."
      ]
    },
    {
      "cell_type": "code",
      "metadata": {
        "id": "WHj7youJr0n1",
        "colab_type": "code",
        "colab": {
          "base_uri": "https://localhost:8080/",
          "height": 34
        },
        "outputId": "643343e1-2625-4ab4-d94d-a4fd35024e4b"
      },
      "source": [
        "dispersion = 0.83\n",
        "explained_variance = np.round(np.cumsum(pca.explained_variance_ratio_),3)\n",
        "\n",
        "#print(explained_variance)\n",
        "it = 1\n",
        "for i in explained_variance:\n",
        "  if (i >= dispersion):\n",
        "    pivot = it\n",
        "    break\n",
        "  it += 1\n",
        "\n",
        "pivot"
      ],
      "execution_count": 22,
      "outputs": [
        {
          "output_type": "execute_result",
          "data": {
            "text/plain": [
              "52"
            ]
          },
          "metadata": {
            "tags": []
          },
          "execution_count": 22
        }
      ]
    },
    {
      "cell_type": "markdown",
      "metadata": {
        "id": "gJ_Be0bGr0n4",
        "colab_type": "text"
      },
      "source": [
        "Затем фигачим многоклассовую классификацию one vs all\n"
      ]
    },
    {
      "cell_type": "code",
      "metadata": {
        "id": "vHgstBZ4r0n4",
        "colab_type": "code",
        "colab": {}
      },
      "source": [
        "from sklearn.multiclass import OneVsRestClassifier\n",
        "from sklearn.tree import DecisionTreeClassifier\n",
        "from sklearn.ensemble import RandomForestClassifier\n",
        "\n",
        "tree = RandomForestClassifier(criterion='gini', min_samples_leaf=10, max_depth=20, n_estimators=10, random_state=126)\n",
        "clf = OneVsRestClassifier(tree).fit(X_train, y_train)\n",
        "\n",
        "X_test = modelPCA.transform(X_test)\n",
        "y_pred = clf.predict(X_test)\n",
        "\n",
        "from sklearn.metrics import confusion_matrix\n",
        "CM = confusion_matrix(y_test, y_pred)"
      ],
      "execution_count": 41,
      "outputs": []
    },
    {
      "cell_type": "markdown",
      "metadata": {
        "id": "2rC_iYROr0n7",
        "colab_type": "text"
      },
      "source": [
        "ОТВЕТ НА ПУНКТ 4: количество верно классифицированных объектов класса 5 для тестовых данных:"
      ]
    },
    {
      "cell_type": "code",
      "metadata": {
        "id": "VyAinrFNr0n8",
        "colab_type": "code",
        "colab": {
          "base_uri": "https://localhost:8080/",
          "height": 34
        },
        "outputId": "7e3b7fb1-dab6-4996-8b54-0909ca895a03"
      },
      "source": [
        "CM[5][5]"
      ],
      "execution_count": 42,
      "outputs": [
        {
          "output_type": "execute_result",
          "data": {
            "text/plain": [
              "1414"
            ]
          },
          "metadata": {
            "tags": []
          },
          "execution_count": 42
        }
      ]
    },
    {
      "cell_type": "code",
      "metadata": {
        "id": "LUudu70wr0n-",
        "colab_type": "code",
        "colab": {
          "base_uri": "https://localhost:8080/",
          "height": 34
        },
        "outputId": "c3e41dc8-b283-4a9a-93f8-1177aab8aefb"
      },
      "source": [
        "#жалкая попытка... Введите выборочное среднее нулевой колонки для полученного тренировочного набора:\n",
        "\n",
        "np.mean(X_test[0])"
      ],
      "execution_count": 43,
      "outputs": [
        {
          "output_type": "execute_result",
          "data": {
            "text/plain": [
              "14.094429459288447"
            ]
          },
          "metadata": {
            "tags": []
          },
          "execution_count": 43
        }
      ]
    },
    {
      "cell_type": "markdown",
      "metadata": {
        "id": "kQN2rLVIr0oB",
        "colab_type": "text"
      },
      "source": [
        "пункты 5 и 6"
      ]
    },
    {
      "cell_type": "code",
      "metadata": {
        "id": "bMQQZRcHr0oC",
        "colab_type": "code",
        "colab": {}
      },
      "source": [
        "new = pd.read_csv('pred_for_task.csv')"
      ],
      "execution_count": null,
      "outputs": []
    },
    {
      "cell_type": "code",
      "metadata": {
        "id": "3J1Mec23r0oF",
        "colab_type": "code",
        "colab": {}
      },
      "source": [
        "new.head()"
      ],
      "execution_count": null,
      "outputs": []
    },
    {
      "cell_type": "code",
      "metadata": {
        "id": "vDKlnySFr0oH",
        "colab_type": "code",
        "colab": {}
      },
      "source": [
        "X = pd.DataFrame(new.drop(['FileName','Label'], axis=1))\n",
        "y = pd.DataFrame(new['Label'])"
      ],
      "execution_count": null,
      "outputs": []
    },
    {
      "cell_type": "code",
      "metadata": {
        "id": "Ov3kQ6hqr0oL",
        "colab_type": "code",
        "colab": {}
      },
      "source": [
        "X.head()"
      ],
      "execution_count": null,
      "outputs": []
    },
    {
      "cell_type": "code",
      "metadata": {
        "id": "WajOE1gPr0oO",
        "colab_type": "code",
        "colab": {}
      },
      "source": [
        "y.head()"
      ],
      "execution_count": null,
      "outputs": []
    },
    {
      "cell_type": "code",
      "metadata": {
        "id": "tDtzmnxsr0oR",
        "colab_type": "code",
        "colab": {}
      },
      "source": [
        "X_train, X_test, y_train, y_test = train_test_split(X, y, test_size=0.3, random_state=126)"
      ],
      "execution_count": null,
      "outputs": []
    },
    {
      "cell_type": "code",
      "metadata": {
        "id": "idFjLxR-r0oT",
        "colab_type": "code",
        "colab": {}
      },
      "source": [
        "y_train.head()"
      ],
      "execution_count": null,
      "outputs": []
    },
    {
      "cell_type": "code",
      "metadata": {
        "id": "oDeEVQ71r0oW",
        "colab_type": "code",
        "colab": {}
      },
      "source": [
        "y_test.head()"
      ],
      "execution_count": null,
      "outputs": []
    },
    {
      "cell_type": "code",
      "metadata": {
        "id": "Ak1_Ctrqr0oa",
        "colab_type": "code",
        "colab": {}
      },
      "source": [
        "dim = 784 # 28*28 \n",
        "X_train = X_train.values.reshape(len(X_train), dim)\n",
        "X_test = X_test.values.reshape(len(X_test), dim)"
      ],
      "execution_count": null,
      "outputs": []
    },
    {
      "cell_type": "code",
      "metadata": {
        "id": "Kdew9FI5r0oc",
        "colab_type": "code",
        "colab": {}
      },
      "source": [
        "from sklearn.decomposition import PCA\n",
        "pca = PCA(n_components=21, svd_solver='full')\n",
        "modelPCA = pca.fit(X_train) \n",
        "X_train = modelPCA.transform(X_train)"
      ],
      "execution_count": null,
      "outputs": []
    },
    {
      "cell_type": "code",
      "metadata": {
        "id": "eoUKkcUfr0of",
        "colab_type": "code",
        "colab": {}
      },
      "source": [
        "from sklearn.multiclass import OneVsRestClassifier\n",
        "from sklearn.tree import DecisionTreeClassifier\n",
        "from sklearn.ensemble import RandomForestClassifier\n",
        "\n",
        "tree = RandomForestClassifier(criterion='gini', min_samples_leaf=10, max_depth=20, n_estimators=10, random_state=126)\n",
        "clf = OneVsRestClassifier(tree).fit(X_train, y_train)\n",
        "\n",
        "X_test = modelPCA.transform(X_test)\n",
        "y_pred = clf.predict(X_test)\n",
        "\n",
        "from sklearn.metrics import confusion_matrix\n",
        "CM = confusion_matrix(y_test, y_pred)"
      ],
      "execution_count": null,
      "outputs": []
    },
    {
      "cell_type": "code",
      "metadata": {
        "id": "aIdEHWwSr0oh",
        "colab_type": "code",
        "colab": {}
      },
      "source": [
        "\n",
        "CM"
      ],
      "execution_count": null,
      "outputs": []
    },
    {
      "cell_type": "code",
      "metadata": {
        "id": "gIY3kDl6r0ok",
        "colab_type": "code",
        "colab": {}
      },
      "source": [
        ""
      ],
      "execution_count": null,
      "outputs": []
    }
  ]
}